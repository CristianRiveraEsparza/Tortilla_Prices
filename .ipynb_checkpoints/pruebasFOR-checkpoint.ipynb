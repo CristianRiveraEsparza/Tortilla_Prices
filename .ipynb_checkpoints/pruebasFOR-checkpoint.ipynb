{
 "cells": [
  {
   "cell_type": "code",
   "execution_count": 2,
   "id": "881638bc-67ee-4a3c-82d4-52ccf62083b6",
   "metadata": {
    "tags": []
   },
   "outputs": [
    {
     "name": "stdout",
     "output_type": "stream",
     "text": [
      "10800.0\n",
      "11664.0\n",
      "12597.12\n",
      "13604.889600000002\n",
      "14693.280768000004\n",
      "15868.743229440006\n",
      "17138.24268779521\n",
      "18509.302102818827\n",
      "19990.046271044335\n"
     ]
    }
   ],
   "source": [
    "interes=10000\n",
    "for i in range(1,10):\n",
    "    interes*=1.08\n",
    "    print(interes)"
   ]
  },
  {
   "cell_type": "code",
   "execution_count": 8,
   "id": "296f596f-6d51-41e5-93ad-47d92d9a4e3d",
   "metadata": {
    "tags": []
   },
   "outputs": [
    {
     "name": "stdout",
     "output_type": "stream",
     "text": [
      "No tiene bono\n"
     ]
    }
   ],
   "source": [
    "lista=[100,201,307,99,45,786,67,20]\n",
    "superados=0\n",
    "reprobados=0\n",
    "for i in lista:\n",
    "    if i>200:\n",
    "        superados+=1\n",
    "    else:\n",
    "        reprobados+=1\n",
    "if superados>reprobados:\n",
    "    print('Si tiene bono')\n",
    "else:\n",
    "    print('No tiene bono')"
   ]
  },
  {
   "cell_type": "code",
   "execution_count": 12,
   "id": "63fc8c97-63aa-4a54-af7d-c2876e86f11c",
   "metadata": {
    "tags": []
   },
   "outputs": [
    {
     "name": "stdout",
     "output_type": "stream",
     "text": [
      "Bono\n"
     ]
    }
   ],
   "source": [
    "lista=[1,2,2,2,2,2,1,1]\n",
    "superados=0\n",
    "negativos=0\n",
    "for i in lista:\n",
    "    if i==2:\n",
    "        superados+=1\n",
    "    else:\n",
    "        negativos+=1\n",
    "if superados>negativos:\n",
    "    print('Bono')\n",
    "else:\n",
    "    print('No bono')"
   ]
  },
  {
   "cell_type": "code",
   "execution_count": 22,
   "id": "789227cc-cef8-4b8e-a8dd-74deb43d0be2",
   "metadata": {
    "tags": []
   },
   "outputs": [
    {
     "name": "stdin",
     "output_type": "stream",
     "text": [
      "Ingrese el número 1:  201\n",
      "Ingrese el número 2:  302\n",
      "Ingrese el número 3:  12\n",
      "Ingrese el número 4:  12\n",
      "Ingrese el número 5:  34\n",
      "Ingrese el número 6:  400\n",
      "Ingrese el número 7:  780\n",
      "Ingrese el número 8:  342\n"
     ]
    },
    {
     "name": "stdout",
     "output_type": "stream",
     "text": [
      "Lista de números: [201, 302, 12, 12, 34, 400, 780, 342]\n",
      "Si tiene bono\n"
     ]
    }
   ],
   "source": [
    "lista = []\n",
    "\n",
    "for i in range(8):\n",
    "    numero = int(input(f\"Ingrese el número {i + 1}: \"))\n",
    "    lista.append(numero)\n",
    "print(\"Lista de números:\", lista)\n",
    "superados=0\n",
    "reprobados=0\n",
    "for i in lista:\n",
    "    if i>200:\n",
    "        superados+=1\n",
    "    else:\n",
    "        reprobados+=1\n",
    "if superados>reprobados:\n",
    "    print('Si tiene bono')\n",
    "else:\n",
    "    print('No tiene bono')"
   ]
  }
 ],
 "metadata": {
  "kernelspec": {
   "display_name": "Python 3 (ipykernel)",
   "language": "python",
   "name": "python3"
  },
  "language_info": {
   "codemirror_mode": {
    "name": "ipython",
    "version": 3
   },
   "file_extension": ".py",
   "mimetype": "text/x-python",
   "name": "python",
   "nbconvert_exporter": "python",
   "pygments_lexer": "ipython3",
   "version": "3.10.9"
  }
 },
 "nbformat": 4,
 "nbformat_minor": 5
}
